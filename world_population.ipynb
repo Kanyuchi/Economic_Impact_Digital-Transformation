{
 "cells": [
  {
   "cell_type": "code",
   "execution_count": null,
   "metadata": {},
   "outputs": [],
   "source": [
    "import requests\n",
    "import pandas as pd\n",
    "from sqlalchemy import create_engine\n",
    "\n",
    "# Step 1: Make the API Call\n",
    "API_KEY = \"YOUR_KEY_GOES_HERE\"  # Replace with your actual API key\n",
    "URL = \"https://api.census.gov/data/timeseries/idb/5year\"  # API Endpoint\n",
    "PARAMS = {\n",
    "    \"get\": \"NAME,GENC,POP\",\n",
    "    \"YR\": \"2023\",\n",
    "    \"for\": \"genc+standard+countries+and+areas:BW,NO\",\n",
    "    \"key\": API_KEY\n",
    "}\n",
    "\n",
    "response = requests.get(URL, params=PARAMS)\n",
    "\n",
    "# Step 2: Check Response and Convert to DataFrame\n",
    "if response.status_code == 200:\n",
    "    data = response.json()  # Convert response to JSON\n",
    "    headers = data[0]       # Extract headers\n",
    "    rows = data[1:]         # Extract data rows\n",
    "    df = pd.DataFrame(rows, columns=headers)\n",
    "    print(df)\n",
    "\n",
    "    # Step 3: Create an SQL Database and Save Data\n",
    "    engine = create_engine('sqlite:///census_data.db')  # SQLite for local testing\n",
    "    df.to_sql('population_data', con=engine, if_exists='replace', index=False)\n",
    "\n",
    "    print(\"Data successfully saved to the SQL database.\")\n",
    "else:\n",
    "    print(f\"Failed to fetch data. Status Code: {response.status_code}\")\n",
    "\n"
   ]
  }
 ],
 "metadata": {
  "language_info": {
   "name": "python"
  }
 },
 "nbformat": 4,
 "nbformat_minor": 2
}
